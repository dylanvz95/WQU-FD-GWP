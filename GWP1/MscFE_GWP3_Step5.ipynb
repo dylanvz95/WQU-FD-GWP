{
 "cells": [
  {
   "cell_type": "markdown",
   "metadata": {},
   "source": [
    "# WQU Msc Financial Engineering Financial Data GWP 3\n",
    "#### Chosen Scenario: Lending Money at a fixed rate for an unsecured purchase "
   ]
  },
  {
   "cell_type": "markdown",
   "metadata": {},
   "source": [
    "The purpose of this notebook is to create a Python implementation of a credit scoring methodology to decide whether to extend unsecured credit to a potential client using the 5 Cs of credit. "
   ]
  },
  {
   "cell_type": "markdown",
   "metadata": {},
   "source": [
    "#### Import Dependencies:"
   ]
  },
  {
   "cell_type": "code",
   "execution_count": 31,
   "metadata": {},
   "outputs": [],
   "source": [
    "import pandas as pd\n",
    "import pandas_datareader.data as web\n",
    "from datetime import datetime\n",
    "import warnings\n",
    "warnings.filterwarnings(\"ignore\")"
   ]
  },
  {
   "cell_type": "markdown",
   "metadata": {},
   "source": [
    "#### Create Functions:  "
   ]
  },
  {
   "cell_type": "code",
   "execution_count": 32,
   "metadata": {},
   "outputs": [],
   "source": [
    "#create a function to decide whether to grant credit to a client\n",
    "def credit_decision (character, debt_to_income, capital, collateral, credit_default_rate, unemployment_rate):\n",
    "    \n",
    "    #implement auto reject features - credit score less than 500 or debt:income ratio over 50\n",
    "    if character < 500 or debt_to_income > 50: \n",
    "        credit_decision_string = \"No Credit\"\n",
    "    \n",
    "    #if credit score and capacity are sufficient look at condition factors \n",
    "    #if environmental credit default rates are greater than 10% or the employment rate is above 7% then do not extend credit\n",
    "    \n",
    "    elif credit_default_rate > 10 or unemployment_rate > 7:\n",
    "        credit_decision_string = \"No Credit\"\n",
    "        \n",
    "    else:\n",
    "        credit_decision_string = \"Grant Credit\"\n",
    "    \n",
    "    return credit_decision_string"
   ]
  },
  {
   "cell_type": "code",
   "execution_count": 33,
   "metadata": {},
   "outputs": [],
   "source": [
    "#create a function to gather the latest quarterly credit default rates from the FRED database\n",
    "\n",
    "def get_default_rate():\n",
    "    # Define the date range\n",
    "    start = datetime(2023, 1, 1)\n",
    "    end = datetime.now()\n",
    "\n",
    "    # Fetch the delinquency rate on credit cards\n",
    "    credit_card_defaults_df = web.DataReader('DRCCLACBS', 'fred', start, end)\n",
    "\n",
    "    credit_card_defaults_df.reset_index(inplace=True)\n",
    "    \n",
    "    return credit_card_defaults_df.iloc[-1,1]"
   ]
  },
  {
   "cell_type": "code",
   "execution_count": 34,
   "metadata": {},
   "outputs": [],
   "source": [
    "#create a function to gather the latest quarterly unemployment rates from the FRED database\n",
    "\n",
    "def get_unemployment_rate():\n",
    "    # Define the date range\n",
    "    start = datetime(2023, 1, 1)\n",
    "    end = datetime.now()\n",
    "\n",
    "    # Fetch the delinquency rate on credit cards\n",
    "    credit_card_defaults_df = web.DataReader('UNRATE', 'fred', start, end)\n",
    "\n",
    "    credit_card_defaults_df.reset_index(inplace=True)\n",
    "    \n",
    "    return credit_card_defaults_df.iloc[-1,1]"
   ]
  },
  {
   "cell_type": "markdown",
   "metadata": {},
   "source": [
    "#### Gather Necessary Information about the pottential client: "
   ]
  },
  {
   "cell_type": "code",
   "execution_count": 35,
   "metadata": {},
   "outputs": [],
   "source": [
    "#manually entered variables\n",
    "client_credit_score = 500 #to be manually obtained from credit beaureau \n",
    "debt_to_income = 20 # to be manually obtained from credit beaureau\n",
    "\n",
    "#automated variables\n",
    "capital = 0 #always equal to 0 as no capital outlay is required for a credit card\n",
    "collateral = 0 #always equal to 0 as this is unsecured credit \n",
    "credit_default_rate = get_default_rate() #obtained from federal reserve dataset\n",
    "unemployment_rate = get_unemployment_rate() #obtained from federal reserve dataset"
   ]
  },
  {
   "cell_type": "markdown",
   "metadata": {},
   "source": [
    "#### Get Credit Decision "
   ]
  },
  {
   "cell_type": "code",
   "execution_count": 30,
   "metadata": {},
   "outputs": [
    {
     "name": "stdout",
     "output_type": "stream",
     "text": [
      "Credit Decision: Grant Credit\n"
     ]
    }
   ],
   "source": [
    "print(f\"Credit Decision: {credit_decision(client_credit_score, debt_to_income, capital,collateral,credit_default_rate,unemployment_rate)}\")"
   ]
  }
 ],
 "metadata": {
  "kernelspec": {
   "display_name": "Python 3",
   "language": "python",
   "name": "python3"
  },
  "language_info": {
   "codemirror_mode": {
    "name": "ipython",
    "version": 3
   },
   "file_extension": ".py",
   "mimetype": "text/x-python",
   "name": "python",
   "nbconvert_exporter": "python",
   "pygments_lexer": "ipython3",
   "version": "3.9.6"
  }
 },
 "nbformat": 4,
 "nbformat_minor": 2
}
